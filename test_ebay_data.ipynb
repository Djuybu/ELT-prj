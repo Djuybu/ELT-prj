{
 "cells": [
  {
   "cell_type": "code",
   "execution_count": 1,
   "id": "d383bcf3",
   "metadata": {},
   "outputs": [
    {
     "name": "stdout",
     "output_type": "stream",
     "text": [
      "Collecting pyspark\n",
      "  Using cached pyspark-3.5.5-py2.py3-none-any.whl\n",
      "Collecting py4j==0.10.9.7 (from pyspark)\n",
      "  Using cached py4j-0.10.9.7-py2.py3-none-any.whl.metadata (1.5 kB)\n",
      "Using cached py4j-0.10.9.7-py2.py3-none-any.whl (200 kB)\n",
      "Installing collected packages: py4j, pyspark\n",
      "\n",
      "   ---------------------------------------- 0/2 [py4j]\n",
      "   ---------------------------------------- 0/2 [py4j]\n",
      "   ---------------------------------------- 0/2 [py4j]\n",
      "   -------------------- ------------------- 1/2 [pyspark]\n",
      "   -------------------- ------------------- 1/2 [pyspark]\n",
      "   -------------------- ------------------- 1/2 [pyspark]\n",
      "   -------------------- ------------------- 1/2 [pyspark]\n",
      "   -------------------- ------------------- 1/2 [pyspark]\n",
      "   -------------------- ------------------- 1/2 [pyspark]\n",
      "   -------------------- ------------------- 1/2 [pyspark]\n",
      "   -------------------- ------------------- 1/2 [pyspark]\n",
      "   -------------------- ------------------- 1/2 [pyspark]\n",
      "   -------------------- ------------------- 1/2 [pyspark]\n",
      "   -------------------- ------------------- 1/2 [pyspark]\n",
      "   -------------------- ------------------- 1/2 [pyspark]\n",
      "   -------------------- ------------------- 1/2 [pyspark]\n",
      "   -------------------- ------------------- 1/2 [pyspark]\n",
      "   -------------------- ------------------- 1/2 [pyspark]\n",
      "   -------------------- ------------------- 1/2 [pyspark]\n",
      "   -------------------- ------------------- 1/2 [pyspark]\n",
      "   -------------------- ------------------- 1/2 [pyspark]\n",
      "   -------------------- ------------------- 1/2 [pyspark]\n",
      "   -------------------- ------------------- 1/2 [pyspark]\n",
      "   -------------------- ------------------- 1/2 [pyspark]\n",
      "   -------------------- ------------------- 1/2 [pyspark]\n",
      "   -------------------- ------------------- 1/2 [pyspark]\n",
      "   -------------------- ------------------- 1/2 [pyspark]\n",
      "   -------------------- ------------------- 1/2 [pyspark]\n",
      "   -------------------- ------------------- 1/2 [pyspark]\n",
      "   -------------------- ------------------- 1/2 [pyspark]\n",
      "   -------------------- ------------------- 1/2 [pyspark]\n",
      "   -------------------- ------------------- 1/2 [pyspark]\n",
      "   -------------------- ------------------- 1/2 [pyspark]\n",
      "   -------------------- ------------------- 1/2 [pyspark]\n",
      "   -------------------- ------------------- 1/2 [pyspark]\n",
      "   -------------------- ------------------- 1/2 [pyspark]\n",
      "   -------------------- ------------------- 1/2 [pyspark]\n",
      "   -------------------- ------------------- 1/2 [pyspark]\n",
      "   -------------------- ------------------- 1/2 [pyspark]\n",
      "   -------------------- ------------------- 1/2 [pyspark]\n",
      "   -------------------- ------------------- 1/2 [pyspark]\n",
      "   -------------------- ------------------- 1/2 [pyspark]\n",
      "   -------------------- ------------------- 1/2 [pyspark]\n",
      "   -------------------- ------------------- 1/2 [pyspark]\n",
      "   -------------------- ------------------- 1/2 [pyspark]\n",
      "   -------------------- ------------------- 1/2 [pyspark]\n",
      "   -------------------- ------------------- 1/2 [pyspark]\n",
      "   -------------------- ------------------- 1/2 [pyspark]\n",
      "   -------------------- ------------------- 1/2 [pyspark]\n",
      "   -------------------- ------------------- 1/2 [pyspark]\n",
      "   -------------------- ------------------- 1/2 [pyspark]\n",
      "   -------------------- ------------------- 1/2 [pyspark]\n",
      "   -------------------- ------------------- 1/2 [pyspark]\n",
      "   -------------------- ------------------- 1/2 [pyspark]\n",
      "   -------------------- ------------------- 1/2 [pyspark]\n",
      "   -------------------- ------------------- 1/2 [pyspark]\n",
      "   -------------------- ------------------- 1/2 [pyspark]\n",
      "   -------------------- ------------------- 1/2 [pyspark]\n",
      "   -------------------- ------------------- 1/2 [pyspark]\n",
      "   -------------------- ------------------- 1/2 [pyspark]\n",
      "   -------------------- ------------------- 1/2 [pyspark]\n",
      "   -------------------- ------------------- 1/2 [pyspark]\n",
      "   -------------------- ------------------- 1/2 [pyspark]\n",
      "   -------------------- ------------------- 1/2 [pyspark]\n",
      "   -------------------- ------------------- 1/2 [pyspark]\n",
      "   -------------------- ------------------- 1/2 [pyspark]\n",
      "   -------------------- ------------------- 1/2 [pyspark]\n",
      "   -------------------- ------------------- 1/2 [pyspark]\n",
      "   -------------------- ------------------- 1/2 [pyspark]\n",
      "   -------------------- ------------------- 1/2 [pyspark]\n",
      "   -------------------- ------------------- 1/2 [pyspark]\n",
      "   -------------------- ------------------- 1/2 [pyspark]\n",
      "   -------------------- ------------------- 1/2 [pyspark]\n",
      "   -------------------- ------------------- 1/2 [pyspark]\n",
      "   ---------------------------------------- 2/2 [pyspark]\n",
      "\n",
      "Successfully installed py4j-0.10.9.7 pyspark-3.5.5\n",
      "Note: you may need to restart the kernel to use updated packages.\n"
     ]
    }
   ],
   "source": [
    "%pip install pyspark\n"
   ]
  },
  {
   "cell_type": "code",
   "execution_count": 2,
   "id": "70d4b075",
   "metadata": {},
   "outputs": [],
   "source": [
    "import pyspark\n",
    "from pyspark.sql import SparkSession, DataFrame\n",
    "from pyspark import SparkContext"
   ]
  },
  {
   "cell_type": "code",
   "execution_count": null,
   "id": "c17beca0",
   "metadata": {},
   "outputs": [],
   "source": [
    "c = SparkContext.getOrCreate()\n",
    "spark = SparkSession.builder /\n",
    "    .appName(\"Finding strategies for dataframe transformation\") /\n",
    "    .master(\"local[*]\") /\n",
    "    .getOrCreate()\n",
    "    \n"
   ]
  },
  {
   "cell_type": "code",
   "execution_count": 6,
   "id": "6a787e1b",
   "metadata": {},
   "outputs": [
    {
     "name": "stdout",
     "output_type": "stream",
     "text": [
      "root\n",
      " |-- itemId: string (nullable = true)\n",
      " |-- title: string (nullable = true)\n",
      " |-- leafCategoryIds: array (nullable = true)\n",
      " |    |-- element: string (containsNull = true)\n",
      " |-- categories: array (nullable = true)\n",
      " |    |-- element: struct (containsNull = true)\n",
      " |    |    |-- categoryId: string (nullable = true)\n",
      " |    |    |-- categoryName: string (nullable = true)\n",
      " |-- image: struct (nullable = true)\n",
      " |    |-- imageUrl: string (nullable = true)\n",
      " |-- price: struct (nullable = true)\n",
      " |    |-- currency: string (nullable = true)\n",
      " |    |-- value: string (nullable = true)\n",
      " |-- itemHref: string (nullable = true)\n",
      " |-- seller: struct (nullable = true)\n",
      " |    |-- feedbackScore: long (nullable = true)\n",
      " |-- condition: string (nullable = true)\n",
      " |-- conditionId: string (nullable = true)\n",
      " |-- thumbnailImages: array (nullable = true)\n",
      " |    |-- element: struct (containsNull = true)\n",
      " |    |    |-- imageUrl: string (nullable = true)\n",
      " |-- shippingOptions: array (nullable = true)\n",
      " |    |-- element: struct (containsNull = true)\n",
      " |    |    |-- shippingCost: struct (nullable = true)\n",
      " |    |    |    |-- currency: string (nullable = true)\n",
      " |    |    |    |-- value: string (nullable = true)\n",
      " |    |    |-- shippingCostType: string (nullable = true)\n",
      " |-- buyingOptions: array (nullable = true)\n",
      " |    |-- element: string (containsNull = true)\n",
      " |-- itemWebUrl: string (nullable = true)\n",
      " |-- itemLocation: struct (nullable = true)\n",
      " |    |-- country: string (nullable = true)\n",
      " |    |-- postalCode: string (nullable = true)\n",
      " |-- adultOnly: boolean (nullable = true)\n",
      " |-- legacyItemId: string (nullable = true)\n",
      " |-- availableCoupons: boolean (nullable = true)\n",
      " |-- itemOriginDate: string (nullable = true)\n",
      " |-- itemCreationDate: string (nullable = true)\n",
      " |-- topRatedBuyingExperience: boolean (nullable = true)\n",
      " |-- priorityListing: boolean (nullable = true)\n",
      " |-- listingMarketplaceId: string (nullable = true)\n",
      "\n"
     ]
    }
   ],
   "source": [
    "airpods = spark.read.parquet(\"C:/Users/macmi/Desktop/Prj/ELT-prj/data/airpods.parquet\")\n",
    "airpods.printSchema()"
   ]
  },
  {
   "cell_type": "code",
   "execution_count": 7,
   "id": "fb16a384",
   "metadata": {},
   "outputs": [
    {
     "name": "stdout",
     "output_type": "stream",
     "text": [
      "+-----------------+--------------------+---------------+--------------------+--------------------+------------+--------------------+------+---------+-----------+--------------------+--------------------+-------------+--------------------+------------+---------+------------+----------------+--------------------+--------------------+------------------------+---------------+--------------------+\n",
      "|           itemId|               title|leafCategoryIds|          categories|               image|       price|            itemHref|seller|condition|conditionId|     thumbnailImages|     shippingOptions|buyingOptions|          itemWebUrl|itemLocation|adultOnly|legacyItemId|availableCoupons|      itemOriginDate|    itemCreationDate|topRatedBuyingExperience|priorityListing|listingMarketplaceId|\n",
      "+-----------------+--------------------+---------------+--------------------+--------------------+------------+--------------------+------+---------+-----------+--------------------+--------------------+-------------+--------------------+------------+---------+------------+----------------+--------------------+--------------------+------------------------+---------------+--------------------+\n",
      "|v1|110582305802|0|Apple Airpods 2nd...|        [80077]|[{80077, Headsets...|{http://i.ebayimg...|{USD, 59.99}|https://api.sandb...|  {10}|      New|       1000|[{http://i.ebayim...|[{{USD, 0.00}, FI...|[FIXED_PRICE]|https://cgi.sandb...| {US, 902**}|    false|110582305802|           false|2025-04-01T02:12:...|2025-04-01T02:12:...|                   false|          false|             EBAY_US|\n",
      "+-----------------+--------------------+---------------+--------------------+--------------------+------------+--------------------+------+---------+-----------+--------------------+--------------------+-------------+--------------------+------------+---------+------------+----------------+--------------------+--------------------+------------------------+---------------+--------------------+\n",
      "only showing top 1 row\n",
      "\n"
     ]
    }
   ],
   "source": [
    "airpods.show(1)"
   ]
  },
  {
   "cell_type": "code",
   "execution_count": 8,
   "id": "24d94ac2",
   "metadata": {},
   "outputs": [],
   "source": [
    "new_airpod_df = airpods.select('itemId', 'title', 'price')"
   ]
  },
  {
   "cell_type": "code",
   "execution_count": 9,
   "id": "65d1ecd6",
   "metadata": {},
   "outputs": [
    {
     "name": "stdout",
     "output_type": "stream",
     "text": [
      "root\n",
      " |-- itemId: string (nullable = true)\n",
      " |-- title: string (nullable = true)\n",
      " |-- price: struct (nullable = true)\n",
      " |    |-- currency: string (nullable = true)\n",
      " |    |-- value: string (nullable = true)\n",
      "\n"
     ]
    }
   ],
   "source": [
    "new_airpod_df.printSchema()"
   ]
  },
  {
   "cell_type": "code",
   "execution_count": 10,
   "id": "dee0eecb",
   "metadata": {},
   "outputs": [],
   "source": [
    "from pyspark.sql.functions import col\n",
    "\n",
    "# Ép price.value -> double và tạo cột mới \"price\"\n",
    "df2 = new_airpod_df.withColumn(\"price\", col(\"price.value\").cast(\"double\"))\n",
    "\n",
    "# Nếu bạn muốn bỏ luôn struct cũ \"price\", thì chọn lại cột\n",
    "final_df = df2.select(\"itemId\", \"title\", \"price\")"
   ]
  },
  {
   "cell_type": "code",
   "execution_count": 11,
   "id": "063c1d2f",
   "metadata": {},
   "outputs": [],
   "source": [
    "from pyspark.sql.functions import lit\n",
    "\n",
    "final_df = final_df.withColumn(\"brand_name\", lit(\"ebay\"))"
   ]
  },
  {
   "cell_type": "code",
   "execution_count": 12,
   "id": "0e25ee25",
   "metadata": {},
   "outputs": [],
   "source": [
    "from pyspark.sql.functions import current_timestamp\n",
    "final_df = final_df.withColumn(\"first_issue_date\", current_timestamp())"
   ]
  },
  {
   "cell_type": "code",
   "execution_count": 13,
   "id": "b9d123c0",
   "metadata": {},
   "outputs": [
    {
     "name": "stdout",
     "output_type": "stream",
     "text": [
      "+-----------------+--------------------+-----+----------+--------------------+\n",
      "|           itemId|               title|price|brand_name|    first_issue_date|\n",
      "+-----------------+--------------------+-----+----------+--------------------+\n",
      "|v1|110582305802|0|Apple Airpods 2nd...|59.99|      ebay|2025-04-26 23:10:...|\n",
      "+-----------------+--------------------+-----+----------+--------------------+\n",
      "only showing top 1 row\n",
      "\n"
     ]
    }
   ],
   "source": [
    "final_df.show(1)"
   ]
  },
  {
   "cell_type": "code",
   "execution_count": 19,
   "id": "f5846c24",
   "metadata": {},
   "outputs": [],
   "source": [
    "final_df = final_df.withColumnRenamed('itemId', 'product_id').withColumnRenamed('title', 'product_name')\n"
   ]
  },
  {
   "cell_type": "code",
   "execution_count": 20,
   "id": "0bd3bda7",
   "metadata": {},
   "outputs": [
    {
     "name": "stdout",
     "output_type": "stream",
     "text": [
      "root\n",
      " |-- product_id: string (nullable = true)\n",
      " |-- brand_name: string (nullable = true)\n",
      " |-- price: double (nullable = true)\n",
      " |-- brand_name: string (nullable = false)\n",
      " |-- first_issue_date: timestamp (nullable = false)\n",
      "\n"
     ]
    }
   ],
   "source": [
    "final_df.printSchema()"
   ]
  }
 ],
 "metadata": {
  "kernelspec": {
   "display_name": ".venv",
   "language": "python",
   "name": "python3"
  },
  "language_info": {
   "codemirror_mode": {
    "name": "ipython",
    "version": 3
   },
   "file_extension": ".py",
   "mimetype": "text/x-python",
   "name": "python",
   "nbconvert_exporter": "python",
   "pygments_lexer": "ipython3",
   "version": "3.12.6"
  }
 },
 "nbformat": 4,
 "nbformat_minor": 5
}
